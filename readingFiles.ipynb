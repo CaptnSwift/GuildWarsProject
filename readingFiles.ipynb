{
 "cells": [
  {
   "cell_type": "code",
   "execution_count": 51,
   "metadata": {
    "collapsed": true
   },
   "outputs": [
    {
     "data": {
      "text/plain": [
       "str"
      ]
     },
     "execution_count": 51,
     "metadata": {},
     "output_type": "execute_result"
    }
   ],
   "source": [
    "import urllib"
   ]
  },
  {
   "cell_type": "code",
   "execution_count": null,
   "metadata": {},
   "outputs": [],
   "source": [
    "tpItems = read_items(call_API(\"commerce/listings\"))"
   ]
  },
  {
   "cell_type": "code",
   "execution_count": 101,
   "metadata": {},
   "outputs": [
    {
     "data": {
      "text/plain": [
       "['\"name\": \"Mighty Country Coat\"',\n",
       " '\"description\": \"\"',\n",
       " '\"type\": \"Armor\"',\n",
       " '\"level\": 0',\n",
       " '\"rarity\": \"Basic\"',\n",
       " '\"vendor_value\": 6',\n",
       " '\"default_skin\": 13',\n",
       " '\"game_types\": [\\\\n    \"Activity\"',\n",
       " '  \"Wvw\"',\n",
       " '  \"Dungeon\"',\n",
       " '  \"Pve\"\\\\n  ]',\n",
       " '\"flags\": [\\\\n    \"NotUpgradeable\"\\\\n  ]',\n",
       " '\"restrictions\": []',\n",
       " '\"id\": 68',\n",
       " '\"chat_link\": \"[&AgFEAAAA]\"',\n",
       " '\"icon\": \"https://render.guildwars2.com/file/F03808FFE89B40044671EED2E427053B389BE0A1/61007.png\"',\n",
       " '\"details\": {\\\\n    \"type\": \"Coat\"',\n",
       " '  \"weight_class\": \"Light\"',\n",
       " '  \"defense\": 23',\n",
       " '  \"infusion_slots\": []',\n",
       " '  \"infix_upgrade\": {\\\\n      \"id\": 137',\n",
       " '    \"attributes\": [\\\\n        {\\\\n          \"attribute\": \"Power\"',\n",
       " '        \"modifier\": 4\\\\n        }\\\\n      ]\\\\n    }',\n",
       " '  \"secondary_suffix_item_id\": \"\"']"
      ]
     },
     "execution_count": 101,
     "metadata": {},
     "output_type": "execute_result"
    }
   ],
   "source": [
    "#I want to create a dictionary from these items to the item information\n",
    "#so I need to like, make a call and parse for each item in the tpItems list\n",
    "#maybe let's start with 1 call and build the function that will create a single item\n",
    "\n",
    "tp1 = read_items(call_API(\"items/\" + tpItems[1]), \",\\\\n  \")\n",
    "\n",
    "#split the key from the value\n",
    "#now turn into a loop\n",
    "s = tp1[0].split(\": \")\n",
    "\n",
    "#remove \"'s\n",
    "#now turn into a loop\n",
    "s[0] = s[0].replace(\"\\\"\", \"\")\n",
    "s[0]\n",
    "tp1"
   ]
  },
  {
   "cell_type": "code",
   "execution_count": 80,
   "metadata": {},
   "outputs": [
    {
     "data": {
      "text/plain": [
       "[['\"name\"', '\"Mighty Country Coat\"'],\n",
       " ['\"description\"', '\"\"'],\n",
       " ['\"type\"', '\"Armor\"'],\n",
       " ['\"level\"', '0'],\n",
       " ['\"rarity\"', '\"Basic\"'],\n",
       " ['\"vendor_value\"', '6'],\n",
       " ['\"default_skin\"', '13'],\n",
       " ['\"game_types\"', '[\\\\n    \"Activity\"'],\n",
       " ['  \"Wvw\"'],\n",
       " ['  \"Dungeon\"'],\n",
       " ['  \"Pve\"\\\\n  ]'],\n",
       " ['\"flags\"', '[\\\\n    \"NotUpgradeable\"\\\\n  ]'],\n",
       " ['\"restrictions\"', '[]'],\n",
       " ['\"id\"', '68'],\n",
       " ['\"chat_link\"', '\"[&AgFEAAAA]\"'],\n",
       " ['\"icon\"',\n",
       "  '\"https://render.guildwars2.com/file/F03808FFE89B40044671EED2E427053B389BE0A1/61007.png\"'],\n",
       " ['\"details\"', '{\\\\n    \"type\"', '\"Coat\"'],\n",
       " ['  \"weight_class\"', '\"Light\"'],\n",
       " ['  \"defense\"', '23'],\n",
       " ['  \"infusion_slots\"', '[]'],\n",
       " ['  \"infix_upgrade\"', '{\\\\n      \"id\"', '137'],\n",
       " ['    \"attributes\"', '[\\\\n        {\\\\n          \"attribute\"', '\"Power\"'],\n",
       " ['        \"modifier\"', '4\\\\n        }\\\\n      ]\\\\n    }'],\n",
       " ['  \"secondary_suffix_item_id\"', '\"\"']]"
      ]
     },
     "execution_count": 80,
     "metadata": {},
     "output_type": "execute_result"
    }
   ],
   "source": [
    "tp1\n",
    "\n",
    "#remove beginning bit\n",
    "s[0] = s[0].split(\"\\\\n  \")[1]\n",
    "    \n",
    "#remove ending bit\n",
    "s[len(s)-1] = s[len(s)-1].split(\"\\\\n\")[0]\n",
    "\n",
    "#creating dictionary 1\n",
    "#splittp1 =\n",
    "ii = 0\n",
    "for i in tp1:\n",
    "    tp1[ii] = i.split(\": \")\n",
    "    ii = ii + 1\n",
    "\n",
    "tp1[7]\n",
    "    \n",
    "#then I want to figure out how to read the listing buy/sell information"
   ]
  },
  {
   "cell_type": "code",
   "execution_count": 78,
   "metadata": {
    "collapsed": true
   },
   "outputs": [],
   "source": [
    "#function to read in items lists from the GW2 API\n",
    "def read_items(file):\n",
    "    s = file.split(\"\\\\n  \")\n",
    "    \n",
    "    #remove beginning bit\n",
    "    s[0] = s[0].split(\"\\\\n  \")[1]\n",
    "    \n",
    "    #remove ending bit\n",
    "    s[len(s)-1] = s[len(s)-1].split(\"\\\\n\")[0]\n",
    "    \n",
    "    return s\n",
    "\n",
    "#or create a function with multiple variables to use \n",
    "\n",
    "#create a function to clean items in all possible ways\n",
    "#\"\"'s around, [, ], \\\\n, {, }, .strip() etc\n",
    "\n",
    "#function to make a single API call\n",
    "def call_API(request):\n",
    "    url = \"http://api.guildwars2.com/v2/\" + request\n",
    "    file = urllib.request.urlopen(url).read() #read tp listings\n",
    "    file = str(file)\n",
    "    return file\n",
    "\n",
    "#create item dictionary\n",
    "def item_dict():\n",
    "    return NULL"
   ]
  },
  {
   "cell_type": "code",
   "execution_count": null,
   "metadata": {},
   "outputs": [],
   "source": [
    "#Handy code tidbits I might want later\n",
    "\n",
    "#convert to int\n",
    "s = [ int(x) for x in s ]\n",
    "\n",
    "for temp in s:\n",
    "    print(temp)\n",
    "\n"
   ]
  }
 ],
 "metadata": {
  "kernelspec": {
   "display_name": "Python 3",
   "language": "python",
   "name": "python3"
  },
  "language_info": {
   "codemirror_mode": {
    "name": "ipython",
    "version": 3
   },
   "file_extension": ".py",
   "mimetype": "text/x-python",
   "name": "python",
   "nbconvert_exporter": "python",
   "pygments_lexer": "ipython3",
   "version": "3.6.3"
  }
 },
 "nbformat": 4,
 "nbformat_minor": 2
}
