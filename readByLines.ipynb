{
 "cells": [
  {
   "cell_type": "code",
   "execution_count": null,
   "metadata": {},
   "outputs": [],
   "source": [
    "#Needed libraries\n",
    "import urllib\n",
    "\n",
    "\"\"\"Good Functions\"\"\"\n",
    "#function to make a single API call\n",
    "def call_API(request):\n",
    "    \"\"\"\n",
    "    Make a single call to the GW2 API\n",
    "    Return a string with all contents from pull\n",
    "    \"\"\"\n",
    "    url = \"http://api.guildwars2.com/v2/\" + request\n",
    "    file = urllib.request.urlopen(url).read()\n",
    "    file = str(file)\n",
    "    file = file.replace(\"\\\\n\", \"\\n\")\n",
    "    return file"
   ]
  }
 ],
 "metadata": {
  "kernelspec": {
   "display_name": "Python 3",
   "language": "python",
   "name": "python3"
  },
  "language_info": {
   "codemirror_mode": {
    "name": "ipython",
    "version": 3
   },
   "file_extension": ".py",
   "mimetype": "text/x-python",
   "name": "python",
   "nbconvert_exporter": "python",
   "pygments_lexer": "ipython3",
   "version": "3.6.3"
  }
 },
 "nbformat": 4,
 "nbformat_minor": 2
}
