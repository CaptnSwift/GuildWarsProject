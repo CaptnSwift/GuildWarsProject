{
 "cells": [
  {
   "cell_type": "code",
   "execution_count": 51,
   "metadata": {
    "collapsed": true
   },
   "outputs": [
    {
     "data": {
      "text/plain": [
       "str"
      ]
     },
     "execution_count": 51,
     "metadata": {},
     "output_type": "execute_result"
    }
   ],
   "source": [
    "import urllib\n",
    "\n",
    "url = \"http://api.guildwars2.com/v2/commerce/listings\"\n",
    "file = urllib.request.urlopen(url).read() #read tp listings\n",
    "file = str(file)\n",
    "\n",
    "type(tpItems)"
   ]
  },
  {
   "cell_type": "code",
   "execution_count": null,
   "metadata": {},
   "outputs": [],
   "source": [
    "#Clean up the str and turn it into a list of strs\n",
    "\n",
    "#split each number\n",
    "s = tpItems.split(\",\\\\n  \")\n",
    "\n",
    "#remove beginning bit\n",
    "s[0] = s[0].split(\"[\\\\n  \")[1]\n",
    "\n",
    "#remove ending bit\n",
    "s[len(s)-1] = s[len(s)-1].split(\"\\\\n]\")[0]"
   ]
  },
  {
   "cell_type": "code",
   "execution_count": null,
   "metadata": {},
   "outputs": [],
   "source": [
    "tpItems = read_items(file)\n",
    "\n",
    "#I want to create a dictionary from these items to the item information\n",
    "\n",
    "\n",
    "#then I want to figure out how to read the listing buy/sell information"
   ]
  },
  {
   "cell_type": "code",
   "execution_count": null,
   "metadata": {},
   "outputs": [],
   "source": [
    "#print(tpItems)\n",
    "\n",
    "#convert to int\n",
    "#s = int(s)\n",
    "s = [ int(x) for x in s ]\n",
    "\n",
    "for temp in s:\n",
    "    print(temp)\n",
    "\n"
   ]
  },
  {
   "cell_type": "code",
   "execution_count": 46,
   "metadata": {
    "collapsed": true
   },
   "outputs": [],
   "source": [
    "#function to read in items lists from the GW2 API\n",
    "def read_items(file):\n",
    "    s = file.split(\",\\\\n  \")\n",
    "    \n",
    "    #remove beginning bit\n",
    "    s[0] = s[0].split(\"[\\\\n  \")[1]\n",
    "    \n",
    "    #remove ending bit\n",
    "    s[len(s)-1] = s[len(s)-1].split(\"\\\\n]\")[0]\n",
    "    \n",
    "    return s\n",
    "\n",
    "#function to make a single API call\n",
    "def callAPI(request):\n",
    "    url = \"http://api.guildwars2.com/v2/\" + request\n",
    "    file = urllib.request.urlopen(url).read() #read tp listings\n",
    "    file = str(file)\n",
    "    return file"
   ]
  }
 ],
 "metadata": {
  "kernelspec": {
   "display_name": "Python 3",
   "language": "python",
   "name": "python3"
  },
  "language_info": {
   "codemirror_mode": {
    "name": "ipython",
    "version": 3
   },
   "file_extension": ".py",
   "mimetype": "text/x-python",
   "name": "python",
   "nbconvert_exporter": "python",
   "pygments_lexer": "ipython3",
   "version": "3.6.3"
  }
 },
 "nbformat": 4,
 "nbformat_minor": 2
}
