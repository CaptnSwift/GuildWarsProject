{
 "cells": [
  {
   "cell_type": "code",
   "execution_count": 10,
   "metadata": {},
   "outputs": [],
   "source": [
    "#Needed libraries\n",
    "import urllib\n",
    "\n",
    "\"\"\"Good Functions\"\"\"\n",
    "#function to make a single API call\n",
    "def call_API(request):\n",
    "    \"\"\"\n",
    "    Make a single call to the GW2 API\n",
    "    Return a string with all contents from pull\n",
    "    \"\"\"\n",
    "    url = \"http://api.guildwars2.com/v2/\" + request #make call to API\n",
    "    \n",
    "    file = urllib.request.urlopen(url).read() #read in call, reads in bytes\n",
    "    \n",
    "    file = str(file) #convert bytes -> string\n",
    "    \n",
    "    #clean the file\n",
    "    file = file.replace(\"\\\\n\", \"\\n\") #so line breaks work as they should\n",
    "    file = file.replace(\"b'\", \"\", 1) #remove front character, meaningless\n",
    "    file = file[:-1] #remove last ', just so we don't have to worry about it\n",
    "    file = file.replace(\"\\\"\", \"\") #remove unnecessary quotes\n",
    "    \n",
    "    return file"
   ]
  },
  {
   "cell_type": "code",
   "execution_count": 11,
   "metadata": {},
   "outputs": [
    {
     "name": "stdout",
     "output_type": "stream",
     "text": [
      "{\n",
      "  name: Sealed Package of Snowballs,\n",
      "  description: Open this package to create several snowballs that can hit anyone else holding a snowball.,\n",
      "  type: Consumable,\n",
      "  level: 0,\n",
      "  rarity: Basic,\n",
      "  vendor_value: 0,\n",
      "  game_types: [\n",
      "    Wvw,\n",
      "    Dungeon,\n",
      "    Pve\n",
      "  ],\n",
      "  flags: [],\n",
      "  restrictions: [],\n",
      "  id: 24,\n",
      "  chat_link: [&AgEYAAAA],\n",
      "  icon: https://render.guildwars2.com/file/1D05D1EE04E16E69710E1EAB11AC466BBF105778/219347.png,\n",
      "  details: {\n",
      "    type: Generic\n",
      "  }\n",
      "}\n"
     ]
    },
    {
     "data": {
      "text/plain": [
       "'\\nso now I can look at it line by line by splitting on \"\\n\" which is how I think things are meant to be read\\n\\nnow I want to read in line by like - \\n'"
      ]
     },
     "execution_count": 11,
     "metadata": {},
     "output_type": "execute_result"
    }
   ],
   "source": [
    "print(call_API(\"items/24\"))\n",
    "\n",
    "\"\"\"\n",
    "so now I can look at it line by line by splitting on \"\\n\" which is how I think things are meant to be read\n",
    "\n",
    "now I want to read in line by like  - if the first thing is a\n",
    "- { - \n",
    "\"\"\""
   ]
  }
 ],
 "metadata": {
  "kernelspec": {
   "display_name": "Python 3",
   "language": "python",
   "name": "python3"
  },
  "language_info": {
   "codemirror_mode": {
    "name": "ipython",
    "version": 3
   },
   "file_extension": ".py",
   "mimetype": "text/x-python",
   "name": "python",
   "nbconvert_exporter": "python",
   "pygments_lexer": "ipython3",
   "version": "3.6.3"
  }
 },
 "nbformat": 4,
 "nbformat_minor": 2
}
